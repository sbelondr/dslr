{
 "cells": [
  {
   "cell_type": "code",
   "execution_count": 1,
   "metadata": {},
   "outputs": [],
   "source": [
    "import numpy as np\n",
    "import pandas as pd\n",
    "import matplotlib.pyplot as plt"
   ]
  },
  {
   "cell_type": "code",
   "execution_count": 2,
   "metadata": {},
   "outputs": [],
   "source": [
    "def prepare_X_Y():\n",
    "    filename = '../ressources/datasets/dataset_train.csv'\n",
    "\n",
    "    data = pd.read_csv(filename, sep=\",\", index_col=\"Index\")\n",
    "    data = data.dropna()\n",
    "\n",
    "    # similaire result (see Histogram)\n",
    "    del data['Care of Magical Creatures']\n",
    "    del data['Arithmancy']\n",
    "    # data identic with defense ag. (see scatter_plot)\n",
    "    del data['Astronomy']\n",
    "\n",
    "    X = np.array((data.iloc[:,5:]))\n",
    "    y = np.array(data.loc[:, \"Hogwarts House\"])\n",
    "    return X, y"
   ]
  },
  {
   "cell_type": "code",
   "execution_count": 9,
   "metadata": {},
   "outputs": [],
   "source": [
    "class LogisticRegression():\n",
    "    def __init__(Logreg, alpha=0.01, n_iteration=100):\n",
    "        Logreg.alpha = alpha\n",
    "        Logreg.n_iter = n_iteration\n",
    "\n",
    "    def _scaling(Logreg, X):\n",
    "        '''\n",
    "        avoid an overflow\n",
    "        '''\n",
    "        for i in range(len(X)):\n",
    "            X[i] = (X[i] - X.mean()) / X.std()\n",
    "        return X\n",
    "        \n",
    "    def _sigmoid_function(Logreg, x):\n",
    "        value = 1 / (1 + np.exp(-x))\n",
    "        return value\n",
    "    \n",
    "    def _hypothesis(Logreg, theta, X):\n",
    "        return 1 / (1 + np.exp(-(np.dot(theta, X.T)))) - 0.0000001\n",
    "    \n",
    "    def _cost_function(Logreg, h, theta, y):\n",
    "        m = len(y)\n",
    "        i = (1/m)\n",
    "        i = (np.sum(-y.T.dot(np.log(h))))\n",
    "        i = np.log(1 - h)\n",
    "        i = ((1 - y).T.dot(np.log(1 - h)))\n",
    "        cost = (1 / m) * (np.sum(-y.T.dot(np.log(h)) - (1 - y).T.dot(np.log(1 - h))))\n",
    "        return cost\n",
    "    \n",
    "    def _gradient_descent(Logreg, X, h, theta, y, m):\n",
    "        '''\n",
    "        theta = theta - alpha * sigma(h^i - y^i)(X^ij)\n",
    "        '''\n",
    "        gradient_value = np.dot(X.T, (h - y)) / m\n",
    "        theta -= Logreg.alpha * gradient_value\n",
    "        return theta\n",
    "    \n",
    "    def fit(Logreg, X, y):\n",
    "        print('Fitting the given dataset...')\n",
    "        Logreg.theta = []\n",
    "#         Logreg.cost = []\n",
    "        np.apply_along_axis(Logreg._scaling, 0, X)\n",
    "        X = np.insert(X, 0, 1, axis=1)\n",
    "        m = len(y)\n",
    "        for i in np.unique(y):\n",
    "            y_onevsall = np.where(y == i, 1, 0)\n",
    "            theta = np.ones(X.shape[1])\n",
    "#             cost = []\n",
    "            for _ in range(Logreg.n_iter):\n",
    "                z = X.dot(theta)\n",
    "                h = Logreg._sigmoid_function(z)\n",
    "                theta = Logreg._gradient_descent(X, h, theta, y_onevsall, m)\n",
    "#                 cost.append(Logreg._cost_function(h, theta, y_onevsall))\n",
    "            Logreg.theta.append((theta, i))\n",
    "#             Logreg.cost.append((cost, i))\n",
    "        return Logreg\n",
    "    \n",
    "    def predict(Logreg, X):\n",
    "        X = np.insert(X, 0, 1, axis=1)\n",
    "        X_predicted = [max((Logreg._sigmoid_function(i.dot(theta)), c) for theta, c in Logreg.theta)[1] for i in X]\n",
    "        return X_predicted\n",
    "    \n",
    "    def score(Logreg, X, y):\n",
    "        score = sum(Logreg.predict(X) == y) / len(y)\n",
    "        return score\n",
    "    \n",
    "    def _plot_cost(Logreg, costh):\n",
    "        for cost, c in costh:\n",
    "            plt.plot(range(len(cost)), cost, 'r')\n",
    "            plt.title('Convergence Graph of Cost Function of type-' + str(c) + ' vs All')\n",
    "            plt.xlabel('Number of Iterations')\n",
    "            plt.ylabel('Cost')\n",
    "            plt.show()"
   ]
  },
  {
   "cell_type": "code",
   "execution_count": 10,
   "metadata": {},
   "outputs": [],
   "source": [
    "X, y = prepare_X_Y()"
   ]
  },
  {
   "cell_type": "code",
   "execution_count": 11,
   "metadata": {},
   "outputs": [
    {
     "name": "stdout",
     "output_type": "stream",
     "text": [
      "Fitting the given dataset...\n"
     ]
    }
   ],
   "source": [
    "logi = LogisticRegression(alpha=0.01,n_iteration=30000).fit(X, y)"
   ]
  },
  {
   "cell_type": "code",
   "execution_count": 12,
   "metadata": {},
   "outputs": [
    {
     "data": {
      "text/plain": [
       "0.9840127897681854"
      ]
     },
     "execution_count": 12,
     "metadata": {},
     "output_type": "execute_result"
    }
   ],
   "source": [
    "logi.score(X, y)"
   ]
  },
  {
   "cell_type": "code",
   "execution_count": null,
   "metadata": {},
   "outputs": [],
   "source": [
    "print(y)"
   ]
  },
  {
   "cell_type": "code",
   "execution_count": null,
   "metadata": {},
   "outputs": [],
   "source": []
  }
 ],
 "metadata": {
  "kernelspec": {
   "display_name": "Python 3",
   "language": "python",
   "name": "python3"
  },
  "language_info": {
   "codemirror_mode": {
    "name": "ipython",
    "version": 3
   },
   "file_extension": ".py",
   "mimetype": "text/x-python",
   "name": "python",
   "nbconvert_exporter": "python",
   "pygments_lexer": "ipython3",
   "version": "3.8.2"
  }
 },
 "nbformat": 4,
 "nbformat_minor": 4
}
