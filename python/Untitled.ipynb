{
 "cells": [
  {
   "cell_type": "code",
   "execution_count": 4,
   "metadata": {},
   "outputs": [],
   "source": [
    "import numpy as np\n",
    "import pandas as pd\n",
    "import sys"
   ]
  },
  {
   "cell_type": "code",
   "execution_count": 5,
   "metadata": {},
   "outputs": [],
   "source": [
    "\n",
    "class LogisticRegression(object):\n",
    "    def __init__(self, alpha=0.01, n_iteration=100):\n",
    "        self.alpha = alpha\n",
    "        self.n_iter = n_iteration\n",
    "\n",
    "    def _scaling(self, X):\n",
    "        '''\n",
    "        avoid an overflow\n",
    "        '''\n",
    "        for i in range(len(X)):\n",
    "            X[i] = (X[i] - X.mean())  / X.std()\n",
    "        return X\n",
    "\n",
    "    def prepare_X(self, filename, drop):\n",
    "        data = pd.read_csv(filename, index_col='Index')\n",
    "\n",
    "        # similaire result (see Histogram)\n",
    "        del data['Care of Magical Creatures']\n",
    "        del data['Arithmancy']\n",
    "        # data identic with defense ag. (see scatter_plot)\n",
    "        del data['Astronomy']\n",
    "\n",
    "        X = data.iloc[:,5:]\n",
    "        X = X.dropna()\n",
    "        X = np.array(X)\n",
    "        np.apply_along_axis(self._scaling, 0, X)\n",
    "        return X\n",
    "\n",
    "    def prepare_X_Y(self, filename):\n",
    "        data = pd.read_csv(filename, sep=\",\", index_col=\"Index\")\n",
    "        data = data.dropna()\n",
    "\n",
    "        # similaire result (see Histogram)\n",
    "        del data['Care of Magical Creatures']\n",
    "        del data['Arithmancy']\n",
    "        # data identic with defense ag. (see scatter_plot)\n",
    "        del data['Astronomy']\n",
    "\n",
    "        X = np.array((data.iloc[:,5:]))\n",
    "        y = np.array(data.loc[:, \"Hogwarts House\"])\n",
    "        return X, y\n",
    "\n",
    "\n",
    "    def set_theta(self, theta):\n",
    "        self.theta = theta\n",
    "\n",
    "    def _sigmoid_function(self, x):\n",
    "        value = 1 / (1 + np.exp(-x))\n",
    "        return value\n",
    "\n",
    "#     def _gradient_descent(self, X, h, theta, y, m):\n",
    "#         gradient_value = np.dot(X.T, (h - y)) / m\n",
    "#         theta -= self.alpha * gradient_value\n",
    "#         return theta\n",
    "\n",
    "    def fit(self, X, y):\n",
    "        np.apply_along_axis(self._scaling, 0, X)\n",
    "        self.theta = []\n",
    "        X = np.insert(X, 0, 1, axis=1)\n",
    "        m = len(y)\n",
    "\n",
    "        for i in np.unique(y):\n",
    "            y_onevsall = np.where(y == i, 1, 0)\n",
    "            theta = np.ones(X.shape[1])\n",
    "            for _ in range(self.n_iter):\n",
    "                z = X.dot(theta)\n",
    "                h = y_onevsall - self._sigmoid_function(z)\n",
    "                gradient = np.dot(X.T, h)\n",
    "                theta += 5e-5 * gradient\n",
    "            self.theta.append((theta, i))\n",
    "        self.theta = np.array(self.theta, dtype=object)\n",
    "        return self\n",
    "\n",
    "    def score(self, X, y):\n",
    "        score = sum(self.predict(X, self.theta) == y) / len(y)\n",
    "        return score\n",
    "\n",
    "    def predict(self, X, theta):\n",
    "        return [ max((i.dot(t), c) for t, c in theta)[1] for i in np.insert(X, 0, 1, axis=1)]\n"
   ]
  },
  {
   "cell_type": "code",
   "execution_count": 6,
   "metadata": {},
   "outputs": [],
   "source": [
    "def ft_train(filename):\n",
    "    X, y = LogisticRegression().prepare_X_Y(filename)\n",
    "    logi = LogisticRegression(n_iteration=30000).fit(X, y)\n",
    "\n",
    "    print(logi.theta)\n",
    "    np.save('theta', logi.theta)\n",
    "    print(logi.score(X, y))"
   ]
  },
  {
   "cell_type": "code",
   "execution_count": 8,
   "metadata": {},
   "outputs": [
    {
     "name": "stdout",
     "output_type": "stream",
     "text": [
      "[[array([-3.65325352, -1.70747527, -0.37608521,  1.57448096, -0.01269977,\n",
      "        1.65028905, -0.73605355, -1.2920553 , -0.3309326 ,  0.16327666,\n",
      "        0.54037501])\n",
      "  'Gryffindor']\n",
      " [array([-1.43432812,  1.42196187, -2.11260338, -0.24315756, -1.11003066,\n",
      "       -1.49480757,  1.37341873,  1.07126569, -0.96413687,  1.21375993,\n",
      "       -0.25260317])\n",
      "  'Hufflepuff']\n",
      " [array([-1.19892584,  0.63849562,  1.70646061,  0.52720508,  0.92685034,\n",
      "        1.47824487,  0.80656341, -0.31618547, -0.31059736,  2.75987342,\n",
      "        0.4879294 ])\n",
      "  'Ravenclaw']\n",
      " [array([-3.86756213, -0.2277265 ,  0.99404926, -2.145626  , -0.83370217,\n",
      "       -0.76878509,  0.11511574,  1.14663433,  1.08878189,  1.06588092,\n",
      "        0.03160621])\n",
      "  'Slytherin']]\n",
      "0.9840127897681854\n"
     ]
    }
   ],
   "source": [
    "ft_train('../ressources/datasets/dataset_train.csv')"
   ]
  },
  {
   "cell_type": "code",
   "execution_count": null,
   "metadata": {},
   "outputs": [],
   "source": []
  }
 ],
 "metadata": {
  "kernelspec": {
   "display_name": "Python 3",
   "language": "python",
   "name": "python3"
  },
  "language_info": {
   "codemirror_mode": {
    "name": "ipython",
    "version": 3
   },
   "file_extension": ".py",
   "mimetype": "text/x-python",
   "name": "python",
   "nbconvert_exporter": "python",
   "pygments_lexer": "ipython3",
   "version": "3.8.2"
  }
 },
 "nbformat": 4,
 "nbformat_minor": 4
}
