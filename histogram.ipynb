{
 "cells": [
  {
   "cell_type": "code",
   "execution_count": 1,
   "metadata": {},
   "outputs": [
    {
     "data": {
      "image/png": "[encoded data removed]",
      "text/plain": [
       "<Figure size 432x288 with 1 Axes>"
      ]
     },
     "metadata": {
      "needs_background": "light"
     },
     "output_type": "display_data"
    }
   ],
   "source": [
    "# **************************************************************************** #\n",
    "#                                                                              #\n",
    "#                                                         :::      ::::::::    #\n",
    "#    main.py                                            :+:      :+:    :+:    #\n",
    "#                                                     +:+ +:+         +:+      #\n",
    "#    By: samuel <samuel@student.42.fr>              +#+  +:+       +#+         #\n",
    "#                                                 +#+#+#+#+#+   +#+            #\n",
    "#    Created: 2020/05/20 19:04:56 by sbelondr          #+#    #+#              #\n",
    "#    Updated: 2020/05/27 13:52:59 by samuel           ###   ########.fr        #\n",
    "#                                                                              #\n",
    "# **************************************************************************** #\n",
    "\n",
    "from pylib.ft_open_csv import ft_open_csv\n",
    "from describe import ft_describe\n",
    "import matplotlib.pyplot as plt\n",
    "\n",
    "from pylib.math import *\n",
    "\n",
    "import numpy as np\n",
    "\n",
    "def separate_value(df, column, rm_old_column):\n",
    "    all_categ = df[str(column)]\n",
    "    all_categ = list(set(all_categ))\n",
    "    result = []\n",
    "\n",
    "    for categ in all_categ:\n",
    "        tmp = df[str(column)] == categ\n",
    "        data = df[tmp] # np.array(df[tmp].iloc[:, rm_old_column:], dtype=float)\n",
    "        result.append(data)\n",
    "    return all_categ, result\n",
    "\n",
    "def get_name_column_number(df):\n",
    "    '''\n",
    "    Returns:\n",
    "        array with name column contain only number\n",
    "    '''\n",
    "    my_lst = list(df)\n",
    "    cols = []\n",
    "    for x in my_lst:\n",
    "        if np.issubdtype(df[x].dtype, np.number):\n",
    "            cols.append(x)\n",
    "    return cols\n",
    "    \n",
    "\n",
    "def calc_std(df, all_X, categs):\n",
    "    cols = get_name_column_number(df)\n",
    "    \n",
    "    for col in cols:\n",
    "        if col == 'Care of Magical Creatures':\n",
    "#         if not col == 'Index':\n",
    "            h1 = np.array(ft_std(all_X[0][col]))\n",
    "            h2 = ft_std(all_X[1][col])\n",
    "            h3 = ft_std(all_X[2][col])\n",
    "            h4 = ft_std(all_X[3][col])\n",
    "        \n",
    "            plt.hist(h1, 50, alpha=0.5, color='r')\n",
    "            plt.hist(h2, 50, alpha=0.5, color='g')\n",
    "            plt.hist(h3, 50, alpha=0.5, color='b')\n",
    "            plt.hist(h4, 50, alpha=0.5, color='y')\n",
    "            plt.xlabel(col)\n",
    "            plt.ylabel('std')\n",
    "            plt.show()\n",
    "\n",
    "def histogram():\n",
    "    df = ft_open_csv('ressources/datasets/dataset_train.csv')\n",
    "    # drop nan value\n",
    "    df.dropna()\n",
    "    categs, all_X = separate_value(df, 'Hogwarts House', 6)\n",
    "    # drop value useless\n",
    "    # all_X = delete_column(all_X, ['Index', 'Hogwarts House', 'First Name', 'Last Name', 'Birthday', 'Best Hand'])\n",
    "    clr = ['red', 'blue', 'orange', 'green', 'purple', 'grey']\n",
    "    i = 0\n",
    "    calc_std(df, all_X, categs)\n",
    "\n",
    "histogram()"
   ]
  },
  {
   "cell_type": "code",
   "execution_count": null,
   "metadata": {},
   "outputs": [],
   "source": []
  }
 ],
 "metadata": {
  "kernelspec": {
   "display_name": "Python 3",
   "language": "python",
   "name": "python3"
  },
  "language_info": {
   "codemirror_mode": {
    "name": "ipython",
    "version": 3
   },
   "file_extension": ".py",
   "mimetype": "text/x-python",
   "name": "python",
   "nbconvert_exporter": "python",
   "pygments_lexer": "ipython3",
   "version": "3.8.0"
  }
 },
 "nbformat": 4,
 "nbformat_minor": 4
}
