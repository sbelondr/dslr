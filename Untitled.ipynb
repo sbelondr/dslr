{
 "cells": [
  {
   "cell_type": "code",
   "execution_count": 10,
   "metadata": {},
   "outputs": [],
   "source": [
    "import numpy as np\n",
    "import pandas as pd\n",
    "import sys\n",
    "from collections import OrderedDict\n",
    "\n",
    "class LogisticRegressionOVR_predict(object):\n",
    "    def __init__(self, eta=5e-5, n_iter=30000):\n",
    "        self.eta = eta\n",
    "        self.n_iter = n_iter\n",
    "\n",
    "    def _scaling(self,X):\n",
    "        for i in range(len(X)):\n",
    "            X[i] = ( X[i] - X.mean())  / X.std()\n",
    "        return X\n",
    "\n",
    "    def _processing(self,hptest):\n",
    "        hptest = hptest.iloc[:,5:]\n",
    "        hptest = hptest.dropna()\n",
    "        hp_features = np.array(hptest)\n",
    "\n",
    "        np.apply_along_axis(self._scaling, 0, hp_features)\n",
    "        return hp_features\n",
    "\n",
    "    def _predict_one(self, x, weights):\n",
    "        return max((x.dot(w), c) for w, c in weights)[1]\n",
    "\n",
    "    def predict(self, X, weights):\n",
    "        X = self._processing(X)\n",
    "        return [self._predict_one(i, weights) for i in np.insert(X, 0, 1, axis=1)]"
   ]
  },
  {
   "cell_type": "code",
   "execution_count": 21,
   "metadata": {},
   "outputs": [
    {
     "name": "stdout",
     "output_type": "stream",
     "text": [
      "[[array([-3.66464312, -0.00480537, -0.3136483 , -1.76600936, -0.56305206,\n",
      "        1.59131232, -0.1465973 ,  1.48229619, -0.5338203 , -1.1881951 ,\n",
      "       -0.33665546,  0.00422143,  0.14420348,  0.74992696])\n",
      "  'Gryffindor']\n",
      " [array([-0.85968532,  0.47378283,  1.65740463,  1.71792851, -0.43761803,\n",
      "       -0.07579558, -1.09853622, -2.14931726,  1.0025173 ,  0.06165184,\n",
      "       -0.37670438, -0.04244072,  1.41071423, -0.18964815])\n",
      "  'Hufflepuff']\n",
      " [array([-1.38365659,  0.28407077,  0.7224145 ,  0.63325967,  2.33107782,\n",
      "        0.33459613,  1.10245482,  1.28577075,  0.89234859, -0.11505679,\n",
      "       -0.2298653 , -0.0839156 ,  2.69311382,  0.73730941])\n",
      "  'Ravenclaw']\n",
      " [array([-3.90373418,  0.06301754,  0.51824876, -0.29057469,  1.54114294,\n",
      "       -2.09486431, -0.6688281 , -0.8766192 ,  0.06591117,  1.00427804,\n",
      "        1.31918374, -0.01542414,  1.02023999,  0.02729873])\n",
      "  'Slytherin']]\n",
      "===\n",
      "[[array([-3.66464312, -0.00480537, -0.3136483 , -1.76600936, -0.56305206,\n",
      "        1.59131232, -0.1465973 ,  1.48229619, -0.5338203 , -1.1881951 ,\n",
      "       -0.33665546,  0.00422143,  0.14420348,  0.74992696])\n",
      "  'Gryffindor']\n",
      " [array([-0.85968532,  0.47378283,  1.65740463,  1.71792851, -0.43761803,\n",
      "       -0.07579558, -1.09853622, -2.14931726,  1.0025173 ,  0.06165184,\n",
      "       -0.37670438, -0.04244072,  1.41071423, -0.18964815])\n",
      "  'Hufflepuff']\n",
      " [array([-1.38365659,  0.28407077,  0.7224145 ,  0.63325967,  2.33107782,\n",
      "        0.33459613,  1.10245482,  1.28577075,  0.89234859, -0.11505679,\n",
      "       -0.2298653 , -0.0839156 ,  2.69311382,  0.73730941])\n",
      "  'Ravenclaw']\n",
      " [array([-3.90373418,  0.06301754,  0.51824876, -0.29057469,  1.54114294,\n",
      "       -2.09486431, -0.6688281 , -0.8766192 ,  0.06591117,  1.00427804,\n",
      "        1.31918374, -0.01542414,  1.02023999,  0.02729873])\n",
      "  'Slytherin']]\n"
     ]
    }
   ],
   "source": [
    "filename = 'ressources/datasets/dataset_test.csv'\n",
    "hptest = pd.read_csv(filename, index_col = \"Index\")\n",
    "ss = np.load('weights.npy', allow_pickle=True)\n",
    "print(ss)\n",
    "print('===')\n",
    "tt = np.load('th.npy', allow_pickle=True)\n",
    "print(tt)"
   ]
  },
  {
   "cell_type": "code",
   "execution_count": 22,
   "metadata": {},
   "outputs": [
    {
     "name": "stdout",
     "output_type": "stream",
     "text": [
      "Predictions saved to houses.csv : ['Hufflepuff', 'Ravenclaw', 'Gryffindor', 'Slytherin', 'Ravenclaw', 'Hufflepuff', 'Ravenclaw', 'Hufflepuff', 'Hufflepuff', 'Slytherin', 'Slytherin', 'Slytherin', 'Ravenclaw', 'Slytherin', 'Ravenclaw', 'Hufflepuff', 'Slytherin', 'Ravenclaw', 'Ravenclaw', 'Hufflepuff', 'Ravenclaw', 'Gryffindor', 'Ravenclaw', 'Hufflepuff', 'Gryffindor', 'Hufflepuff', 'Hufflepuff', 'Ravenclaw', 'Gryffindor', 'Ravenclaw', 'Slytherin', 'Ravenclaw', 'Ravenclaw', 'Slytherin', 'Ravenclaw', 'Slytherin', 'Gryffindor', 'Ravenclaw', 'Slytherin', 'Ravenclaw', 'Hufflepuff', 'Ravenclaw', 'Ravenclaw', 'Hufflepuff', 'Slytherin', 'Ravenclaw', 'Hufflepuff', 'Gryffindor', 'Gryffindor', 'Gryffindor', 'Hufflepuff', 'Hufflepuff', 'Ravenclaw', 'Hufflepuff', 'Ravenclaw', 'Ravenclaw', 'Slytherin', 'Slytherin', 'Ravenclaw', 'Hufflepuff', 'Ravenclaw', 'Hufflepuff', 'Slytherin', 'Gryffindor', 'Hufflepuff', 'Hufflepuff', 'Hufflepuff', 'Ravenclaw', 'Ravenclaw', 'Slytherin', 'Gryffindor', 'Ravenclaw', 'Ravenclaw', 'Gryffindor', 'Slytherin', 'Ravenclaw', 'Hufflepuff', 'Hufflepuff', 'Hufflepuff', 'Ravenclaw', 'Hufflepuff', 'Hufflepuff', 'Slytherin', 'Gryffindor', 'Ravenclaw', 'Ravenclaw', 'Ravenclaw', 'Gryffindor', 'Hufflepuff', 'Gryffindor', 'Gryffindor', 'Ravenclaw', 'Ravenclaw', 'Slytherin', 'Ravenclaw', 'Hufflepuff', 'Ravenclaw', 'Ravenclaw', 'Gryffindor', 'Gryffindor', 'Slytherin', 'Hufflepuff', 'Ravenclaw', 'Slytherin', 'Gryffindor', 'Hufflepuff', 'Hufflepuff', 'Ravenclaw', 'Ravenclaw', 'Gryffindor', 'Ravenclaw', 'Hufflepuff', 'Hufflepuff', 'Hufflepuff', 'Gryffindor', 'Gryffindor', 'Ravenclaw', 'Ravenclaw', 'Gryffindor', 'Hufflepuff', 'Slytherin', 'Ravenclaw', 'Hufflepuff', 'Hufflepuff', 'Hufflepuff', 'Ravenclaw', 'Slytherin', 'Hufflepuff', 'Hufflepuff', 'Hufflepuff', 'Gryffindor', 'Hufflepuff', 'Hufflepuff', 'Gryffindor', 'Hufflepuff', 'Hufflepuff', 'Slytherin', 'Ravenclaw', 'Gryffindor', 'Slytherin', 'Gryffindor', 'Gryffindor', 'Hufflepuff', 'Ravenclaw', 'Hufflepuff', 'Slytherin', 'Gryffindor', 'Gryffindor', 'Ravenclaw', 'Ravenclaw', 'Hufflepuff', 'Ravenclaw', 'Hufflepuff', 'Gryffindor', 'Gryffindor', 'Hufflepuff', 'Ravenclaw', 'Hufflepuff', 'Gryffindor', 'Slytherin', 'Ravenclaw', 'Hufflepuff', 'Gryffindor', 'Gryffindor', 'Hufflepuff', 'Slytherin', 'Ravenclaw', 'Slytherin', 'Slytherin', 'Hufflepuff', 'Hufflepuff', 'Gryffindor', 'Gryffindor', 'Gryffindor', 'Gryffindor', 'Hufflepuff', 'Hufflepuff', 'Gryffindor', 'Ravenclaw', 'Ravenclaw', 'Ravenclaw', 'Hufflepuff', 'Hufflepuff', 'Gryffindor', 'Slytherin', 'Ravenclaw', 'Hufflepuff', 'Hufflepuff', 'Hufflepuff', 'Slytherin', 'Gryffindor', 'Hufflepuff', 'Gryffindor', 'Hufflepuff', 'Hufflepuff', 'Gryffindor', 'Gryffindor', 'Ravenclaw', 'Ravenclaw', 'Hufflepuff', 'Slytherin', 'Hufflepuff', 'Ravenclaw', 'Hufflepuff', 'Ravenclaw', 'Hufflepuff', 'Ravenclaw', 'Ravenclaw', 'Ravenclaw', 'Hufflepuff', 'Hufflepuff', 'Ravenclaw', 'Ravenclaw', 'Hufflepuff', 'Slytherin', 'Ravenclaw', 'Gryffindor', 'Ravenclaw', 'Hufflepuff', 'Gryffindor', 'Gryffindor', 'Hufflepuff', 'Hufflepuff', 'Ravenclaw', 'Ravenclaw', 'Gryffindor', 'Gryffindor', 'Ravenclaw', 'Hufflepuff', 'Slytherin', 'Hufflepuff', 'Hufflepuff', 'Hufflepuff', 'Hufflepuff', 'Hufflepuff', 'Hufflepuff', 'Slytherin', 'Hufflepuff', 'Ravenclaw', 'Hufflepuff', 'Hufflepuff', 'Hufflepuff', 'Hufflepuff', 'Gryffindor', 'Ravenclaw', 'Slytherin', 'Ravenclaw', 'Ravenclaw', 'Slytherin', 'Ravenclaw', 'Slytherin', 'Slytherin', 'Gryffindor', 'Ravenclaw', 'Hufflepuff', 'Ravenclaw', 'Ravenclaw', 'Hufflepuff', 'Ravenclaw', 'Hufflepuff', 'Hufflepuff', 'Hufflepuff', 'Slytherin', 'Ravenclaw', 'Gryffindor', 'Hufflepuff', 'Hufflepuff', 'Ravenclaw', 'Ravenclaw', 'Slytherin', 'Slytherin', 'Gryffindor', 'Hufflepuff', 'Ravenclaw', 'Hufflepuff', 'Hufflepuff', 'Gryffindor', 'Hufflepuff', 'Ravenclaw', 'Gryffindor', 'Gryffindor', 'Ravenclaw', 'Hufflepuff', 'Gryffindor', 'Hufflepuff', 'Gryffindor', 'Hufflepuff', 'Gryffindor', 'Gryffindor', 'Ravenclaw', 'Hufflepuff', 'Ravenclaw', 'Slytherin', 'Slytherin', 'Gryffindor', 'Hufflepuff', 'Gryffindor', 'Gryffindor', 'Gryffindor', 'Gryffindor', 'Ravenclaw', 'Ravenclaw', 'Hufflepuff', 'Ravenclaw', 'Hufflepuff', 'Ravenclaw', 'Slytherin', 'Hufflepuff', 'Hufflepuff', 'Ravenclaw']\n"
     ]
    }
   ],
   "source": [
    "predicts = LogisticRegressionOVR_predict().predict(hptest, tt)\n",
    "print(\"Predictions saved to houses.csv :\", predicts)\n",
    "houses = pd.DataFrame(OrderedDict ({'Index':range(len(predicts)), 'Hogwarts House':predicts}))\n",
    "# houses.to_csv('houses.csv', index=False)"
   ]
  },
  {
   "cell_type": "code",
   "execution_count": null,
   "metadata": {},
   "outputs": [],
   "source": []
  }
 ],
 "metadata": {
  "kernelspec": {
   "display_name": "Python 3",
   "language": "python",
   "name": "python3"
  },
  "language_info": {
   "codemirror_mode": {
    "name": "ipython",
    "version": 3
   },
   "file_extension": ".py",
   "mimetype": "text/x-python",
   "name": "python",
   "nbconvert_exporter": "python",
   "pygments_lexer": "ipython3",
   "version": "3.8.2"
  }
 },
 "nbformat": 4,
 "nbformat_minor": 4
}
