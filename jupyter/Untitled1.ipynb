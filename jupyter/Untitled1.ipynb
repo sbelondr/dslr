{
 "cells": [
  {
   "cell_type": "code",
   "execution_count": 1,
   "metadata": {},
   "outputs": [],
   "source": [
    "import numpy as np\n",
    "import pandas as pd\n",
    "import sys\n",
    "\n",
    "class LogisticRegressionOVR_train(object):\n",
    "    def __init__(self, w=[], eta=5e-5, n_iter=30000):\n",
    "        self.eta = eta\n",
    "        self.n_iter = n_iter\n",
    "        self.w = w\n",
    "        \n",
    "    def _scaling(self,X):\n",
    "        for i in range(len(X)):\n",
    "            X[i] = ( X[i] - X.mean())  / X.std()\n",
    "        return X\n",
    "\n",
    "        \n",
    "    def _processing(self,hptrain):\n",
    "        hptrain = hptrain.dropna()\n",
    "        hp_features = np.array((hptrain.iloc[:,5:]))\n",
    "        hp_labels = np.array(hptrain.loc[:,\"Hogwarts House\"])\n",
    "        \n",
    "        np.apply_along_axis(self._scaling, 0, hp_features)\n",
    "        return hp_features, hp_labels\n",
    "\n",
    "        \n",
    "        \n",
    "    def _sigmoid(self, x):\n",
    "        return 1 / (1 + np.exp(-x))\n",
    "    \n",
    "\n",
    "    def fit(self, hptrain):\n",
    "        X, y = self._processing(hptrain)\n",
    "        X = np.insert(X, 0, 1, axis=1)\n",
    "        m = X.shape[0]\n",
    "\n",
    "        for i in np.unique(y):\n",
    "            y_copy = np.where(y == i, 1, 0)\n",
    "            w = np.ones(X.shape[1])\n",
    "\n",
    "            for _ in range(self.n_iter):\n",
    "                output = X.dot(w)\n",
    "                errors = y_copy - self._sigmoid(output)\n",
    "                gradient = np.dot(X.T, errors)\n",
    "                w += self.eta * gradient\n",
    "\n",
    "            self.w.append((w, i))\n",
    "        return self.w\n",
    "    \n",
    "    \n",
    "    \n",
    "    def _predict_one(self, x):\n",
    "        return max((x.dot(w), c) for w, c in self.w)[1]\n",
    "    \n",
    "    def predict(self, X):\n",
    "        return [self._predict_one(i) for i in np.insert(X, 0, 1, axis=1)]\n",
    "    \n",
    "    \n",
    "    \n",
    "    def score(self,hptrain):\n",
    "        X, y = self._processing(hptrain)\n",
    "        return sum(self.predict(X) == y) / len(y)"
   ]
  },
  {
   "cell_type": "code",
   "execution_count": 3,
   "metadata": {},
   "outputs": [
    {
     "name": "stdout",
     "output_type": "stream",
     "text": [
      "Poids sauvegardés dans weights.npy, accuracy : 0.9840127897681854\n"
     ]
    }
   ],
   "source": [
    "filename = 'ressources/datasets/dataset_train.csv'\n",
    "hptrain = pd.read_csv(filename, index_col = \"Index\")\n",
    "weights = LogisticRegressionOVR_train().fit(hptrain)\n",
    "np.save(\"weights\", weights)\n",
    "print(\"Poids sauvegardés dans weights.npy, accuracy :\", LogisticRegressionOVR_train().score(hptrain))"
   ]
  },
  {
   "cell_type": "code",
   "execution_count": null,
   "metadata": {},
   "outputs": [],
   "source": []
  }
 ],
 "metadata": {
  "kernelspec": {
   "display_name": "Python 3",
   "language": "python",
   "name": "python3"
  },
  "language_info": {
   "codemirror_mode": {
    "name": "ipython",
    "version": 3
   },
   "file_extension": ".py",
   "mimetype": "text/x-python",
   "name": "python",
   "nbconvert_exporter": "python",
   "pygments_lexer": "ipython3",
   "version": "3.8.2"
  }
 },
 "nbformat": 4,
 "nbformat_minor": 4
}
