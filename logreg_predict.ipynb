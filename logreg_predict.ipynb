{
 "cells": [
  {
   "cell_type": "code",
   "execution_count": 1,
   "metadata": {},
   "outputs": [],
   "source": [
    "from LogisticRegression import LogisticRegression\n",
    "from pylib.ft_open_csv import ft_open_csv\n",
    "import numpy as np"
   ]
  },
  {
   "cell_type": "code",
   "execution_count": 2,
   "metadata": {},
   "outputs": [],
   "source": [
    "data = np.load('theta.npy', allow_pickle=True)"
   ]
  },
  {
   "cell_type": "code",
   "execution_count": 3,
   "metadata": {},
   "outputs": [],
   "source": [
    "filename = 'ressources/datasets/dataset_test.csv'\n",
    "logi = LogisticRegression()\n",
    "X = logi.prepare_X(filename, False)\n",
    "logi.set_theta(data)"
   ]
  },
  {
   "cell_type": "code",
   "execution_count": 4,
   "metadata": {},
   "outputs": [],
   "source": [
    "predict = logi.predict(X, data)"
   ]
  },
  {
   "cell_type": "code",
   "execution_count": 5,
   "metadata": {},
   "outputs": [
    {
     "name": "stdout",
     "output_type": "stream",
     "text": [
      "['Hufflepuff', 'Ravenclaw', 'Gryffindor', 'Hufflepuff', 'Slytherin', 'Ravenclaw', 'Hufflepuff', 'Ravenclaw', 'Hufflepuff', 'Hufflepuff', 'Slytherin', 'Slytherin', 'Slytherin', 'Ravenclaw', 'Slytherin', 'Ravenclaw', 'Hufflepuff', 'Slytherin', 'Ravenclaw', 'Ravenclaw', 'Hufflepuff', 'Ravenclaw', 'Gryffindor', 'Ravenclaw', 'Hufflepuff', 'Gryffindor', 'Hufflepuff', 'Hufflepuff', 'Ravenclaw', 'Gryffindor', 'Ravenclaw', 'Slytherin', 'Ravenclaw', 'Ravenclaw', 'Slytherin', 'Slytherin', 'Ravenclaw', 'Slytherin', 'Gryffindor', 'Ravenclaw', 'Slytherin', 'Ravenclaw', 'Hufflepuff', 'Ravenclaw', 'Ravenclaw', 'Hufflepuff', 'Slytherin', 'Ravenclaw', 'Hufflepuff', 'Gryffindor', 'Gryffindor', 'Gryffindor', 'Hufflepuff', 'Hufflepuff', 'Ravenclaw', 'Hufflepuff', 'Hufflepuff', 'Ravenclaw', 'Hufflepuff', 'Ravenclaw', 'Slytherin', 'Slytherin', 'Gryffindor', 'Ravenclaw', 'Hufflepuff', 'Hufflepuff', 'Gryffindor', 'Gryffindor', 'Ravenclaw', 'Hufflepuff', 'Slytherin', 'Gryffindor', 'Hufflepuff', 'Hufflepuff', 'Hufflepuff', 'Ravenclaw', 'Ravenclaw', 'Slytherin', 'Gryffindor', 'Ravenclaw', 'Ravenclaw', 'Gryffindor', 'Slytherin', 'Ravenclaw', 'Hufflepuff', 'Hufflepuff', 'Hufflepuff', 'Slytherin', 'Ravenclaw', 'Hufflepuff', 'Hufflepuff', 'Slytherin', 'Gryffindor', 'Ravenclaw', 'Hufflepuff', 'Ravenclaw', 'Hufflepuff', 'Ravenclaw', 'Gryffindor', 'Hufflepuff', 'Gryffindor', 'Gryffindor', 'Ravenclaw', 'Ravenclaw', 'Slytherin', 'Ravenclaw', 'Hufflepuff', 'Ravenclaw', 'Ravenclaw', 'Gryffindor', 'Gryffindor', 'Slytherin', 'Hufflepuff', 'Ravenclaw', 'Ravenclaw', 'Slytherin', 'Gryffindor', 'Hufflepuff', 'Hufflepuff', 'Ravenclaw', 'Ravenclaw', 'Gryffindor', 'Ravenclaw', 'Hufflepuff', 'Hufflepuff', 'Hufflepuff', 'Gryffindor', 'Gryffindor', 'Ravenclaw', 'Ravenclaw', 'Gryffindor', 'Hufflepuff', 'Slytherin', 'Hufflepuff', 'Ravenclaw', 'Hufflepuff', 'Hufflepuff', 'Hufflepuff', 'Ravenclaw', 'Slytherin', 'Hufflepuff', 'Hufflepuff', 'Hufflepuff', 'Gryffindor', 'Hufflepuff', 'Hufflepuff', 'Slytherin', 'Hufflepuff', 'Gryffindor', 'Hufflepuff', 'Hufflepuff', 'Slytherin', 'Ravenclaw', 'Gryffindor', 'Slytherin', 'Gryffindor', 'Gryffindor', 'Hufflepuff', 'Ravenclaw', 'Hufflepuff', 'Slytherin', 'Gryffindor', 'Hufflepuff', 'Gryffindor', 'Ravenclaw', 'Ravenclaw', 'Hufflepuff', 'Ravenclaw', 'Hufflepuff', 'Gryffindor', 'Gryffindor', 'Hufflepuff', 'Ravenclaw', 'Hufflepuff', 'Gryffindor', 'Slytherin', 'Ravenclaw', 'Hufflepuff', 'Gryffindor', 'Gryffindor', 'Hufflepuff', 'Slytherin', 'Ravenclaw', 'Slytherin', 'Slytherin', 'Hufflepuff', 'Hufflepuff', 'Gryffindor', 'Gryffindor', 'Gryffindor', 'Gryffindor', 'Hufflepuff', 'Hufflepuff', 'Gryffindor', 'Ravenclaw', 'Ravenclaw', 'Ravenclaw', 'Hufflepuff', 'Hufflepuff', 'Gryffindor', 'Slytherin', 'Ravenclaw', 'Hufflepuff', 'Hufflepuff', 'Hufflepuff', 'Slytherin', 'Gryffindor', 'Hufflepuff', 'Gryffindor', 'Hufflepuff', 'Hufflepuff', 'Gryffindor', 'Gryffindor', 'Ravenclaw', 'Ravenclaw', 'Hufflepuff', 'Slytherin', 'Slytherin', 'Hufflepuff', 'Hufflepuff', 'Ravenclaw', 'Hufflepuff', 'Ravenclaw', 'Hufflepuff', 'Ravenclaw', 'Ravenclaw', 'Ravenclaw', 'Hufflepuff', 'Hufflepuff', 'Ravenclaw', 'Gryffindor', 'Ravenclaw', 'Hufflepuff', 'Slytherin', 'Ravenclaw', 'Gryffindor', 'Ravenclaw', 'Hufflepuff', 'Gryffindor', 'Gryffindor', 'Hufflepuff', 'Hufflepuff', 'Hufflepuff', 'Hufflepuff', 'Ravenclaw', 'Ravenclaw', 'Gryffindor', 'Ravenclaw', 'Gryffindor', 'Gryffindor', 'Ravenclaw', 'Hufflepuff', 'Slytherin', 'Hufflepuff', 'Hufflepuff', 'Hufflepuff', 'Hufflepuff', 'Hufflepuff', 'Hufflepuff', 'Slytherin', 'Hufflepuff', 'Ravenclaw', 'Hufflepuff', 'Hufflepuff', 'Hufflepuff', 'Hufflepuff', 'Gryffindor', 'Ravenclaw', 'Ravenclaw', 'Slytherin', 'Slytherin', 'Slytherin', 'Ravenclaw', 'Ravenclaw', 'Slytherin', 'Ravenclaw', 'Slytherin', 'Slytherin', 'Gryffindor', 'Ravenclaw', 'Hufflepuff', 'Ravenclaw', 'Ravenclaw', 'Hufflepuff', 'Ravenclaw', 'Hufflepuff', 'Hufflepuff', 'Hufflepuff', 'Slytherin', 'Ravenclaw', 'Gryffindor', 'Hufflepuff', 'Hufflepuff', 'Ravenclaw', 'Ravenclaw', 'Slytherin', 'Slytherin', 'Gryffindor', 'Hufflepuff', 'Ravenclaw', 'Hufflepuff', 'Hufflepuff', 'Gryffindor', 'Hufflepuff', 'Ravenclaw', 'Gryffindor', 'Gryffindor', 'Ravenclaw', 'Hufflepuff', 'Gryffindor', 'Hufflepuff', 'Gryffindor', 'Hufflepuff', 'Gryffindor', 'Gryffindor', 'Ravenclaw', 'Hufflepuff', 'Ravenclaw', 'Slytherin', 'Slytherin', 'Gryffindor', 'Hufflepuff', 'Gryffindor', 'Gryffindor', 'Gryffindor', 'Gryffindor', 'Ravenclaw', 'Ravenclaw', 'Hufflepuff', 'Ravenclaw', 'Slytherin', 'Hufflepuff', 'Ravenclaw', 'Slytherin', 'Hufflepuff', 'Hufflepuff', 'Ravenclaw']\n"
     ]
    }
   ],
   "source": [
    "print(predict)"
   ]
  },
  {
   "cell_type": "code",
   "execution_count": null,
   "metadata": {},
   "outputs": [],
   "source": []
  }
 ],
 "metadata": {
  "kernelspec": {
   "display_name": "Python 3",
   "language": "python",
   "name": "python3"
  },
  "language_info": {
   "codemirror_mode": {
    "name": "ipython",
    "version": 3
   },
   "file_extension": ".py",
   "mimetype": "text/x-python",
   "name": "python",
   "nbconvert_exporter": "python",
   "pygments_lexer": "ipython3",
   "version": "3.8.2"
  }
 },
 "nbformat": 4,
 "nbformat_minor": 4
}
