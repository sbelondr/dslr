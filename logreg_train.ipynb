{
 "cells": [
  {
   "cell_type": "code",
   "execution_count": 1,
   "metadata": {},
   "outputs": [],
   "source": [
    "import numpy as np\n",
    "from LogisticRegression import LogisticRegression"
   ]
  },
  {
   "cell_type": "code",
   "execution_count": 2,
   "metadata": {},
   "outputs": [],
   "source": [
    "filename = 'ressources/datasets/dataset_train.csv'\n",
    "X, y = LogisticRegression().prepare_X_Y(filename)"
   ]
  },
  {
   "cell_type": "code",
   "execution_count": 3,
   "metadata": {},
   "outputs": [],
   "source": [
    "logi = LogisticRegression(n_iteration=30000).fit(X, y)"
   ]
  },
  {
   "cell_type": "code",
   "execution_count": 4,
   "metadata": {},
   "outputs": [
    {
     "name": "stderr",
     "output_type": "stream",
     "text": [
      "c:\\users\\askhalog\\appdata\\local\\programs\\python\\python38\\lib\\site-packages\\numpy\\core\\_asarray.py:136: VisibleDeprecationWarning: Creating an ndarray from ragged nested sequences (which is a list-or-tuple of lists-or-tuples-or ndarrays with different lengths or shapes) is deprecated. If you meant to do this, you must specify 'dtype=object' when creating the ndarray\n",
      "  return array(a, dtype, copy=False, order=order, subok=True)\n"
     ]
    }
   ],
   "source": [
    "np.save('theta', logi.theta)"
   ]
  },
  {
   "cell_type": "code",
   "execution_count": 5,
   "metadata": {},
   "outputs": [
    {
     "name": "stdout",
     "output_type": "stream",
     "text": [
      "[(array([-3.65325352, -1.70747527, -0.37608521,  1.57448096, -0.01269977,\n",
      "        1.65028905, -0.73605355, -1.2920553 , -0.3309326 ,  0.16327666,\n",
      "        0.54037501]), 'Gryffindor'), (array([-1.43432812,  1.42196187, -2.11260338, -0.24315756, -1.11003066,\n",
      "       -1.49480757,  1.37341873,  1.07126569, -0.96413687,  1.21375993,\n",
      "       -0.25260317]), 'Hufflepuff'), (array([-1.19892584,  0.63849562,  1.70646061,  0.52720508,  0.92685034,\n",
      "        1.47824487,  0.80656341, -0.31618547, -0.31059736,  2.75987342,\n",
      "        0.4879294 ]), 'Ravenclaw'), (array([-3.86756213, -0.2277265 ,  0.99404926, -2.145626  , -0.83370217,\n",
      "       -0.76878509,  0.11511574,  1.14663433,  1.08878189,  1.06588092,\n",
      "        0.03160621]), 'Slytherin')]\n"
     ]
    }
   ],
   "source": [
    "print(logi.theta)"
   ]
  },
  {
   "cell_type": "code",
   "execution_count": 6,
   "metadata": {},
   "outputs": [
    {
     "name": "stdout",
     "output_type": "stream",
     "text": [
      "0.9840127897681854\n"
     ]
    }
   ],
   "source": [
    "print(logi.score(X, y))"
   ]
  },
  {
   "cell_type": "code",
   "execution_count": null,
   "metadata": {},
   "outputs": [],
   "source": []
  }
 ],
 "metadata": {
  "kernelspec": {
   "display_name": "Python 3",
   "language": "python",
   "name": "python3"
  },
  "language_info": {
   "codemirror_mode": {
    "name": "ipython",
    "version": 3
   },
   "file_extension": ".py",
   "mimetype": "text/x-python",
   "name": "python",
   "nbconvert_exporter": "python",
   "pygments_lexer": "ipython3",
   "version": "3.8.0"
  }
 },
 "nbformat": 4,
 "nbformat_minor": 4
}
